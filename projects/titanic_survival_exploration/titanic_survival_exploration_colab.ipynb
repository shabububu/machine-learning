{
  "nbformat": 4,
  "nbformat_minor": 0,
  "metadata": {
    "colab": {
      "name": "titanic_survival_exploration.ipynb",
      "version": "0.3.2",
      "provenance": [],
      "include_colab_link": true
    },
    "language_info": {
      "codemirror_mode": {
        "name": "ipython",
        "version": 3
      },
      "file_extension": ".py",
      "mimetype": "text/x-python",
      "name": "python",
      "nbconvert_exporter": "python",
      "pygments_lexer": "ipython3",
      "version": "3.6.2"
    },
    "kernelspec": {
      "display_name": "Python 3",
      "language": "python",
      "name": "python3"
    }
  },
  "cells": [
    {
      "cell_type": "markdown",
      "metadata": {
        "id": "view-in-github",
        "colab_type": "text"
      },
      "source": [
        "<a href=\"https://colab.research.google.com/github/shabububu/machine-learning/blob/master/projects/titanic_survival_exploration/titanic_survival_exploration_colab.ipynb\" target=\"_parent\"><img src=\"https://colab.research.google.com/assets/colab-badge.svg\" alt=\"Open In Colab\"/></a>"
      ]
    },
    {
      "metadata": {
        "id": "YfJnZ28gvRcI",
        "colab_type": "text"
      },
      "cell_type": "markdown",
      "source": [
        "# Machine Learning Engineer Nanodegree\n",
        "## Introduction and Foundations\n",
        "## Project: Titanic Survival Exploration\n",
        "\n",
        "In 1912, the ship RMS Titanic struck an iceberg on its maiden voyage and sank, resulting in the deaths of most of its passengers and crew. In this introductory project, we will explore a subset of the RMS Titanic passenger manifest to determine which features best predict whether someone survived or did not survive. To complete this project, you will need to implement several conditional predictions and answer the questions below. Your project submission will be evaluated based on the completion of the code and your responses to the questions.\n",
        "> **Tip:** Quoted sections like this will provide helpful instructions on how to navigate and use an iPython notebook. "
      ]
    },
    {
      "metadata": {
        "id": "ryIeQIAxxSyp",
        "colab_type": "code",
        "colab": {
          "base_uri": "https://localhost:8080/",
          "height": 102
        },
        "outputId": "a51554e8-50ad-4dc1-9e12-22555822bc0e"
      },
      "cell_type": "code",
      "source": [
        "! git clone https://github.com/shabububu/machine-learning"
      ],
      "execution_count": 3,
      "outputs": [
        {
          "output_type": "stream",
          "text": [
            "Cloning into 'machine-learning'...\n",
            "remote: Enumerating objects: 1967, done.\u001b[K\n",
            "remote: Total 1967 (delta 0), reused 0 (delta 0), pack-reused 1967\u001b[K\n",
            "Receiving objects: 100% (1967/1967), 35.44 MiB | 38.04 MiB/s, done.\n",
            "Resolving deltas: 100% (1081/1081), done.\n"
          ],
          "name": "stdout"
        }
      ]
    },
    {
      "metadata": {
        "id": "A3PN77_nxbnb",
        "colab_type": "code",
        "colab": {
          "base_uri": "https://localhost:8080/",
          "height": 34
        },
        "outputId": "d7187832-751b-4026-c4e9-31985e5ad03a"
      },
      "cell_type": "code",
      "source": [
        "%cd machine-learning/projects/titanic_survival_exploration"
      ],
      "execution_count": 8,
      "outputs": [
        {
          "output_type": "stream",
          "text": [
            "/content/machine-learning/projects/titanic_survival_exploration\n"
          ],
          "name": "stdout"
        }
      ]
    },
    {
      "metadata": {
        "id": "lHCJHth-vRcJ",
        "colab_type": "text"
      },
      "cell_type": "markdown",
      "source": [
        "# Getting Started\n",
        "To begin working with the RMS Titanic passenger data, we'll first need to `import` the functionality we need, and load our data into a `pandas` DataFrame.  \n",
        "Run the code cell below to load our data and display the first few entries (passengers) for examination using the `.head()` function.\n",
        "> **Tip:** You can run a code cell by clicking on the cell and using the keyboard shortcut **Shift + Enter** or **Shift + Return**. Alternatively, a code cell can be executed using the **Play** button in the hotbar after selecting it. Markdown cells (text cells like this one) can be edited by double-clicking, and saved using these same shortcuts. [Markdown](http://daringfireball.net/projects/markdown/syntax) allows you to write easy-to-read plain text that can be converted to HTML."
      ]
    },
    {
      "metadata": {
        "id": "xk7SvpKHvRcK",
        "colab_type": "code",
        "colab": {
          "base_uri": "https://localhost:8080/",
          "height": 204
        },
        "outputId": "2f1ce2f6-d756-4c13-8b3f-6ba3a7675865"
      },
      "cell_type": "code",
      "source": [
        "# Import libraries necessary for this project\n",
        "import numpy as np\n",
        "import pandas as pd\n",
        "from IPython.display import display # Allows the use of display() for DataFrames\n",
        "\n",
        "# Import supplementary visualizations code visuals.py\n",
        "import visuals as vs\n",
        "\n",
        "# Pretty display for notebooks\n",
        "%matplotlib inline\n",
        "\n",
        "# Load the dataset\n",
        "in_file = 'titanic_data.csv'\n",
        "full_data = pd.read_csv(in_file)\n",
        "\n",
        "# Print the first few entries of the RMS Titanic data\n",
        "display(full_data.head())"
      ],
      "execution_count": 9,
      "outputs": [
        {
          "output_type": "display_data",
          "data": {
            "text/html": [
              "<div>\n",
              "<style scoped>\n",
              "    .dataframe tbody tr th:only-of-type {\n",
              "        vertical-align: middle;\n",
              "    }\n",
              "\n",
              "    .dataframe tbody tr th {\n",
              "        vertical-align: top;\n",
              "    }\n",
              "\n",
              "    .dataframe thead th {\n",
              "        text-align: right;\n",
              "    }\n",
              "</style>\n",
              "<table border=\"1\" class=\"dataframe\">\n",
              "  <thead>\n",
              "    <tr style=\"text-align: right;\">\n",
              "      <th></th>\n",
              "      <th>PassengerId</th>\n",
              "      <th>Survived</th>\n",
              "      <th>Pclass</th>\n",
              "      <th>Name</th>\n",
              "      <th>Sex</th>\n",
              "      <th>Age</th>\n",
              "      <th>SibSp</th>\n",
              "      <th>Parch</th>\n",
              "      <th>Ticket</th>\n",
              "      <th>Fare</th>\n",
              "      <th>Cabin</th>\n",
              "      <th>Embarked</th>\n",
              "    </tr>\n",
              "  </thead>\n",
              "  <tbody>\n",
              "    <tr>\n",
              "      <th>0</th>\n",
              "      <td>1</td>\n",
              "      <td>0</td>\n",
              "      <td>3</td>\n",
              "      <td>Braund, Mr. Owen Harris</td>\n",
              "      <td>male</td>\n",
              "      <td>22.0</td>\n",
              "      <td>1</td>\n",
              "      <td>0</td>\n",
              "      <td>A/5 21171</td>\n",
              "      <td>7.2500</td>\n",
              "      <td>NaN</td>\n",
              "      <td>S</td>\n",
              "    </tr>\n",
              "    <tr>\n",
              "      <th>1</th>\n",
              "      <td>2</td>\n",
              "      <td>1</td>\n",
              "      <td>1</td>\n",
              "      <td>Cumings, Mrs. John Bradley (Florence Briggs Th...</td>\n",
              "      <td>female</td>\n",
              "      <td>38.0</td>\n",
              "      <td>1</td>\n",
              "      <td>0</td>\n",
              "      <td>PC 17599</td>\n",
              "      <td>71.2833</td>\n",
              "      <td>C85</td>\n",
              "      <td>C</td>\n",
              "    </tr>\n",
              "    <tr>\n",
              "      <th>2</th>\n",
              "      <td>3</td>\n",
              "      <td>1</td>\n",
              "      <td>3</td>\n",
              "      <td>Heikkinen, Miss. Laina</td>\n",
              "      <td>female</td>\n",
              "      <td>26.0</td>\n",
              "      <td>0</td>\n",
              "      <td>0</td>\n",
              "      <td>STON/O2. 3101282</td>\n",
              "      <td>7.9250</td>\n",
              "      <td>NaN</td>\n",
              "      <td>S</td>\n",
              "    </tr>\n",
              "    <tr>\n",
              "      <th>3</th>\n",
              "      <td>4</td>\n",
              "      <td>1</td>\n",
              "      <td>1</td>\n",
              "      <td>Futrelle, Mrs. Jacques Heath (Lily May Peel)</td>\n",
              "      <td>female</td>\n",
              "      <td>35.0</td>\n",
              "      <td>1</td>\n",
              "      <td>0</td>\n",
              "      <td>113803</td>\n",
              "      <td>53.1000</td>\n",
              "      <td>C123</td>\n",
              "      <td>S</td>\n",
              "    </tr>\n",
              "    <tr>\n",
              "      <th>4</th>\n",
              "      <td>5</td>\n",
              "      <td>0</td>\n",
              "      <td>3</td>\n",
              "      <td>Allen, Mr. William Henry</td>\n",
              "      <td>male</td>\n",
              "      <td>35.0</td>\n",
              "      <td>0</td>\n",
              "      <td>0</td>\n",
              "      <td>373450</td>\n",
              "      <td>8.0500</td>\n",
              "      <td>NaN</td>\n",
              "      <td>S</td>\n",
              "    </tr>\n",
              "  </tbody>\n",
              "</table>\n",
              "</div>"
            ],
            "text/plain": [
              "   PassengerId  Survived  Pclass  \\\n",
              "0            1         0       3   \n",
              "1            2         1       1   \n",
              "2            3         1       3   \n",
              "3            4         1       1   \n",
              "4            5         0       3   \n",
              "\n",
              "                                                Name     Sex   Age  SibSp  \\\n",
              "0                            Braund, Mr. Owen Harris    male  22.0      1   \n",
              "1  Cumings, Mrs. John Bradley (Florence Briggs Th...  female  38.0      1   \n",
              "2                             Heikkinen, Miss. Laina  female  26.0      0   \n",
              "3       Futrelle, Mrs. Jacques Heath (Lily May Peel)  female  35.0      1   \n",
              "4                           Allen, Mr. William Henry    male  35.0      0   \n",
              "\n",
              "   Parch            Ticket     Fare Cabin Embarked  \n",
              "0      0         A/5 21171   7.2500   NaN        S  \n",
              "1      0          PC 17599  71.2833   C85        C  \n",
              "2      0  STON/O2. 3101282   7.9250   NaN        S  \n",
              "3      0            113803  53.1000  C123        S  \n",
              "4      0            373450   8.0500   NaN        S  "
            ]
          },
          "metadata": {
            "tags": []
          }
        }
      ]
    },
    {
      "metadata": {
        "id": "vFur_aQQvRcO",
        "colab_type": "text"
      },
      "cell_type": "markdown",
      "source": [
        "From a sample of the RMS Titanic data, we can see the various features present for each passenger on the ship:\n",
        "- **Survived**: Outcome of survival (0 = No; 1 = Yes)\n",
        "- **Pclass**: Socio-economic class (1 = Upper class; 2 = Middle class; 3 = Lower class)\n",
        "- **Name**: Name of passenger\n",
        "- **Sex**: Sex of the passenger\n",
        "- **Age**: Age of the passenger (Some entries contain `NaN`)\n",
        "- **SibSp**: Number of siblings and spouses of the passenger aboard\n",
        "- **Parch**: Number of parents and children of the passenger aboard\n",
        "- **Ticket**: Ticket number of the passenger\n",
        "- **Fare**: Fare paid by the passenger\n",
        "- **Cabin** Cabin number of the passenger (Some entries contain `NaN`)\n",
        "- **Embarked**: Port of embarkation of the passenger (C = Cherbourg; Q = Queenstown; S = Southampton)\n",
        "\n",
        "Since we're interested in the outcome of survival for each passenger or crew member, we can remove the **Survived** feature from this dataset and store it as its own separate variable `outcomes`. We will use these outcomes as our prediction targets.  \n",
        "Run the code cell below to remove **Survived** as a feature of the dataset and store it in `outcomes`."
      ]
    },
    {
      "metadata": {
        "id": "oc6hM4MpvRcP",
        "colab_type": "code",
        "colab": {
          "base_uri": "https://localhost:8080/",
          "height": 204
        },
        "outputId": "3d2e95fa-b10f-4e7f-a4b3-490336c4be0c"
      },
      "cell_type": "code",
      "source": [
        "# Store the 'Survived' feature in a new variable and remove it from the dataset\n",
        "outcomes = full_data['Survived']\n",
        "data = full_data.drop('Survived', axis = 1)\n",
        "\n",
        "# Show the new dataset with 'Survived' removed\n",
        "display(data.head())"
      ],
      "execution_count": 23,
      "outputs": [
        {
          "output_type": "display_data",
          "data": {
            "text/html": [
              "<div>\n",
              "<style scoped>\n",
              "    .dataframe tbody tr th:only-of-type {\n",
              "        vertical-align: middle;\n",
              "    }\n",
              "\n",
              "    .dataframe tbody tr th {\n",
              "        vertical-align: top;\n",
              "    }\n",
              "\n",
              "    .dataframe thead th {\n",
              "        text-align: right;\n",
              "    }\n",
              "</style>\n",
              "<table border=\"1\" class=\"dataframe\">\n",
              "  <thead>\n",
              "    <tr style=\"text-align: right;\">\n",
              "      <th></th>\n",
              "      <th>PassengerId</th>\n",
              "      <th>Pclass</th>\n",
              "      <th>Name</th>\n",
              "      <th>Sex</th>\n",
              "      <th>Age</th>\n",
              "      <th>SibSp</th>\n",
              "      <th>Parch</th>\n",
              "      <th>Ticket</th>\n",
              "      <th>Fare</th>\n",
              "      <th>Cabin</th>\n",
              "      <th>Embarked</th>\n",
              "    </tr>\n",
              "  </thead>\n",
              "  <tbody>\n",
              "    <tr>\n",
              "      <th>0</th>\n",
              "      <td>1</td>\n",
              "      <td>3</td>\n",
              "      <td>Braund, Mr. Owen Harris</td>\n",
              "      <td>male</td>\n",
              "      <td>22.0</td>\n",
              "      <td>1</td>\n",
              "      <td>0</td>\n",
              "      <td>A/5 21171</td>\n",
              "      <td>7.2500</td>\n",
              "      <td>NaN</td>\n",
              "      <td>S</td>\n",
              "    </tr>\n",
              "    <tr>\n",
              "      <th>1</th>\n",
              "      <td>2</td>\n",
              "      <td>1</td>\n",
              "      <td>Cumings, Mrs. John Bradley (Florence Briggs Th...</td>\n",
              "      <td>female</td>\n",
              "      <td>38.0</td>\n",
              "      <td>1</td>\n",
              "      <td>0</td>\n",
              "      <td>PC 17599</td>\n",
              "      <td>71.2833</td>\n",
              "      <td>C85</td>\n",
              "      <td>C</td>\n",
              "    </tr>\n",
              "    <tr>\n",
              "      <th>2</th>\n",
              "      <td>3</td>\n",
              "      <td>3</td>\n",
              "      <td>Heikkinen, Miss. Laina</td>\n",
              "      <td>female</td>\n",
              "      <td>26.0</td>\n",
              "      <td>0</td>\n",
              "      <td>0</td>\n",
              "      <td>STON/O2. 3101282</td>\n",
              "      <td>7.9250</td>\n",
              "      <td>NaN</td>\n",
              "      <td>S</td>\n",
              "    </tr>\n",
              "    <tr>\n",
              "      <th>3</th>\n",
              "      <td>4</td>\n",
              "      <td>1</td>\n",
              "      <td>Futrelle, Mrs. Jacques Heath (Lily May Peel)</td>\n",
              "      <td>female</td>\n",
              "      <td>35.0</td>\n",
              "      <td>1</td>\n",
              "      <td>0</td>\n",
              "      <td>113803</td>\n",
              "      <td>53.1000</td>\n",
              "      <td>C123</td>\n",
              "      <td>S</td>\n",
              "    </tr>\n",
              "    <tr>\n",
              "      <th>4</th>\n",
              "      <td>5</td>\n",
              "      <td>3</td>\n",
              "      <td>Allen, Mr. William Henry</td>\n",
              "      <td>male</td>\n",
              "      <td>35.0</td>\n",
              "      <td>0</td>\n",
              "      <td>0</td>\n",
              "      <td>373450</td>\n",
              "      <td>8.0500</td>\n",
              "      <td>NaN</td>\n",
              "      <td>S</td>\n",
              "    </tr>\n",
              "  </tbody>\n",
              "</table>\n",
              "</div>"
            ],
            "text/plain": [
              "   PassengerId  Pclass                                               Name  \\\n",
              "0            1       3                            Braund, Mr. Owen Harris   \n",
              "1            2       1  Cumings, Mrs. John Bradley (Florence Briggs Th...   \n",
              "2            3       3                             Heikkinen, Miss. Laina   \n",
              "3            4       1       Futrelle, Mrs. Jacques Heath (Lily May Peel)   \n",
              "4            5       3                           Allen, Mr. William Henry   \n",
              "\n",
              "      Sex   Age  SibSp  Parch            Ticket     Fare Cabin Embarked  \n",
              "0    male  22.0      1      0         A/5 21171   7.2500   NaN        S  \n",
              "1  female  38.0      1      0          PC 17599  71.2833   C85        C  \n",
              "2  female  26.0      0      0  STON/O2. 3101282   7.9250   NaN        S  \n",
              "3  female  35.0      1      0            113803  53.1000  C123        S  \n",
              "4    male  35.0      0      0            373450   8.0500   NaN        S  "
            ]
          },
          "metadata": {
            "tags": []
          }
        }
      ]
    },
    {
      "metadata": {
        "id": "a13bxRh7vRcS",
        "colab_type": "text"
      },
      "cell_type": "markdown",
      "source": [
        "The very same sample of the RMS Titanic data now shows the **Survived** feature removed from the DataFrame. Note that `data` (the passenger data) and `outcomes` (the outcomes of survival) are now *paired*. That means for any passenger `data.loc[i]`, they have the survival outcome `outcomes[i]`.\n",
        "\n",
        "To measure the performance of our predictions, we need a metric to score our predictions against the true outcomes of survival. Since we are interested in how *accurate* our predictions are, we will calculate the proportion of passengers where our prediction of their survival is correct. Run the code cell below to create our `accuracy_score` function and test a prediction on the first five passengers.  \n",
        "\n",
        "**Think:** *Out of the first five passengers, if we predict that all of them survived, what would you expect the accuracy of our predictions to be?*"
      ]
    },
    {
      "metadata": {
        "id": "yZCigjI1vRcS",
        "colab_type": "code",
        "colab": {
          "base_uri": "https://localhost:8080/",
          "height": 34
        },
        "outputId": "9efbb6e8-5a33-4dac-f4ef-0684d7b97b7c"
      },
      "cell_type": "code",
      "source": [
        "def accuracy_score(truth, pred):\n",
        "    \"\"\" Returns accuracy score for input truth and predictions. \"\"\"\n",
        "    \n",
        "    # Ensure that the number of predictions matches number of outcomes\n",
        "    if len(truth) == len(pred): \n",
        "        \n",
        "        # Calculate and return the accuracy as a percent\n",
        "        return \"Predictions have an accuracy of {:.2f}%.\".format((truth == pred).mean()*100)\n",
        "    \n",
        "    else:\n",
        "        return \"Number of predictions does not match number of outcomes!\"\n",
        "    \n",
        "# Test the 'accuracy_score' function\n",
        "predictions = pd.Series(np.ones(5, dtype = int))\n",
        "#print(\"outcomes {}\".format(outcomes))\n",
        "#print(\"outcomes[:5] {}\".format(outcomes[:5]))\n",
        "#print(\"predictions {}\".format(predictions))\n",
        "print(accuracy_score(outcomes[:5], predictions))"
      ],
      "execution_count": 28,
      "outputs": [
        {
          "output_type": "stream",
          "text": [
            "Predictions have an accuracy of 60.00%.\n"
          ],
          "name": "stdout"
        }
      ]
    },
    {
      "metadata": {
        "id": "YwV8yR-6vRcV",
        "colab_type": "text"
      },
      "cell_type": "markdown",
      "source": [
        "> **Tip:** If you save an iPython Notebook, the output from running code blocks will also be saved. However, the state of your workspace will be reset once a new session is started. Make sure that you run all of the code blocks from your previous session to reestablish variables and functions before picking up where you last left off.\n",
        "\n",
        "# Making Predictions\n",
        "\n",
        "If we were asked to make a prediction about any passenger aboard the RMS Titanic whom we knew nothing about, then the best prediction we could make would be that they did not survive. This is because we can assume that a majority of the passengers (more than 50%) did not survive the ship sinking.  \n",
        "The `predictions_0` function below will always predict that a passenger did not survive."
      ]
    },
    {
      "metadata": {
        "id": "G_22muZdvRcW",
        "colab_type": "code",
        "colab": {}
      },
      "cell_type": "code",
      "source": [
        "def predictions_0(data):\n",
        "    \"\"\" Model with no features. Always predicts a passenger did not survive. \"\"\"\n",
        "\n",
        "    predictions = []\n",
        "    for _, passenger in data.iterrows():\n",
        "        \n",
        "        # Predict the survival of 'passenger'\n",
        "        predictions.append(0)\n",
        "    \n",
        "    # Return our predictions\n",
        "    return pd.Series(predictions)\n",
        "\n",
        "# Make the predictions\n",
        "predictions = predictions_0(data)"
      ],
      "execution_count": 0,
      "outputs": []
    },
    {
      "metadata": {
        "id": "IyoJ6qcWvRcY",
        "colab_type": "text"
      },
      "cell_type": "markdown",
      "source": [
        "### Question 1\n",
        "\n",
        "* Using the RMS Titanic data, how accurate would a prediction be that none of the passengers survived?\n",
        "\n",
        "**Hint:** Run the code cell below to see the accuracy of this prediction."
      ]
    },
    {
      "metadata": {
        "id": "b-T7Sf8tvRcZ",
        "colab_type": "code",
        "colab": {
          "base_uri": "https://localhost:8080/",
          "height": 34
        },
        "outputId": "65361f4d-580b-4d5d-b5c9-a6ef3940847d"
      },
      "cell_type": "code",
      "source": [
        "print(accuracy_score(outcomes, predictions))"
      ],
      "execution_count": 40,
      "outputs": [
        {
          "output_type": "stream",
          "text": [
            "Predictions have an accuracy of 61.62%.\n"
          ],
          "name": "stdout"
        }
      ]
    },
    {
      "metadata": {
        "id": "DkIQMaAkvRcc",
        "colab_type": "text"
      },
      "cell_type": "markdown",
      "source": [
        "**Answer:** 61.62%"
      ]
    },
    {
      "metadata": {
        "id": "ltHu3yBqvRcc",
        "colab_type": "text"
      },
      "cell_type": "markdown",
      "source": [
        "***\n",
        "Let's take a look at whether the feature **Sex** has any indication of survival rates among passengers using the `survival_stats` function. This function is defined in the `visuals.py` Python script included with this project. The first two parameters passed to the function are the RMS Titanic data and passenger survival outcomes, respectively. The third parameter indicates which feature we want to plot survival statistics across.  \n",
        "Run the code cell below to plot the survival outcomes of passengers based on their sex."
      ]
    },
    {
      "metadata": {
        "id": "0fHUPuJMvRcd",
        "colab_type": "code",
        "colab": {
          "base_uri": "https://localhost:8080/",
          "height": 404
        },
        "outputId": "e4ee3095-8f24-421a-cd94-ca05dbc6e24a"
      },
      "cell_type": "code",
      "source": [
        "vs.survival_stats(data, outcomes, 'Sex')"
      ],
      "execution_count": 14,
      "outputs": [
        {
          "output_type": "display_data",
          "data": {
            "image/png": "[encoded data removed]",
            "text/plain": [
              "<Figure size 576x432 with 1 Axes>"
            ]
          },
          "metadata": {
            "tags": []
          }
        }
      ]
    },
    {
      "metadata": {
        "id": "shn2yxNZvRcg",
        "colab_type": "text"
      },
      "cell_type": "markdown",
      "source": [
        "Examining the survival statistics, a large majority of males did not survive the ship sinking. However, a majority of females *did* survive the ship sinking. Let's build on our previous prediction: If a passenger was female, then we will predict that they survived. Otherwise, we will predict the passenger did not survive.  \n",
        "Fill in the missing code below so that the function will make this prediction.  \n",
        "**Hint:** You can access the values of each feature for a passenger like a dictionary. For example, `passenger['Sex']` is the sex of the passenger."
      ]
    },
    {
      "metadata": {
        "id": "v1zKZdKkvRch",
        "colab_type": "code",
        "colab": {}
      },
      "cell_type": "code",
      "source": [
        "def predictions_1(data):\n",
        "    \"\"\" Model with one feature: \n",
        "            - Predict a passenger survived if they are female. \"\"\"\n",
        "    \n",
        "    predictions = []\n",
        "    for _, passenger in data.iterrows():\n",
        "        #print(type(passenger))\n",
        "        #print(passenger)\n",
        "        gender = passenger['Sex']\n",
        "        #print(gender)\n",
        "        if gender == 'male':\n",
        "          predictions.append(0)\n",
        "        else:\n",
        "          predictions.append(1)\n",
        "    \n",
        "    # Return our predictions\n",
        "    return pd.Series(predictions)\n",
        "\n",
        "# Make the predictions\n",
        "predictions = predictions_1(data)"
      ],
      "execution_count": 0,
      "outputs": []
    },
    {
      "metadata": {
        "id": "Kte-U1vLvRck",
        "colab_type": "text"
      },
      "cell_type": "markdown",
      "source": [
        "### Question 2\n",
        "\n",
        "* How accurate would a prediction be that all female passengers survived and the remaining passengers did not survive?\n",
        "\n",
        "**Hint:** Run the code cell below to see the accuracy of this prediction."
      ]
    },
    {
      "metadata": {
        "id": "A5lUsyWfvRcl",
        "colab_type": "code",
        "colab": {
          "base_uri": "https://localhost:8080/",
          "height": 34
        },
        "outputId": "18c00634-83ab-443b-8b5f-2c24280e1c1e"
      },
      "cell_type": "code",
      "source": [
        "print(accuracy_score(outcomes, predictions))"
      ],
      "execution_count": 42,
      "outputs": [
        {
          "output_type": "stream",
          "text": [
            "Predictions have an accuracy of 78.68%.\n"
          ],
          "name": "stdout"
        }
      ]
    },
    {
      "metadata": {
        "id": "Ayzwce9AvRcp",
        "colab_type": "text"
      },
      "cell_type": "markdown",
      "source": [
        "**Answer**: 78.68%"
      ]
    },
    {
      "metadata": {
        "id": "xBZ-pqKlvRcq",
        "colab_type": "text"
      },
      "cell_type": "markdown",
      "source": [
        "***\n",
        "Using just the **Sex** feature for each passenger, we are able to increase the accuracy of our predictions by a significant margin. Now, let's consider using an additional feature to see if we can further improve our predictions. For example, consider all of the male passengers aboard the RMS Titanic: Can we find a subset of those passengers that had a higher rate of survival? Let's start by looking at the **Age** of each male, by again using the `survival_stats` function. This time, we'll use a fourth parameter to filter out the data so that only passengers with the **Sex** 'male' will be included.  \n",
        "Run the code cell below to plot the survival outcomes of male passengers based on their age."
      ]
    },
    {
      "metadata": {
        "id": "V5n8SoqqvRcr",
        "colab_type": "code",
        "colab": {
          "base_uri": "https://localhost:8080/",
          "height": 404
        },
        "outputId": "4bbcfdfc-fa69-4132-b627-7ddc8bb450f6"
      },
      "cell_type": "code",
      "source": [
        "vs.survival_stats(data, outcomes, 'Age', [\"Sex == 'male'\"])"
      ],
      "execution_count": 51,
      "outputs": [
        {
          "output_type": "display_data",
          "data": {
            "image/png": "[encoded data removed]",
            "text/plain": [
              "<Figure size 576x432 with 1 Axes>"
            ]
          },
          "metadata": {
            "tags": []
          }
        }
      ]
    },
    {
      "metadata": {
        "collapsed": true,
        "id": "r04CeDfzvRcu",
        "colab_type": "text"
      },
      "cell_type": "markdown",
      "source": [
        "Examining the survival statistics, the majority of males younger than 10 survived the ship sinking, whereas most males age 10 or older *did not survive* the ship sinking. Let's continue to build on our previous prediction: If a passenger was female, then we will predict they survive. If a passenger was male and younger than 10, then we will also predict they survive. Otherwise, we will predict they do not survive.  \n",
        "Fill in the missing code below so that the function will make this prediction.  \n",
        "**Hint:** You can start your implementation of this function using the prediction code you wrote earlier from `predictions_1`."
      ]
    },
    {
      "metadata": {
        "id": "Q_GYOaCIvRcv",
        "colab_type": "code",
        "colab": {}
      },
      "cell_type": "code",
      "source": [
        "def predictions_2(data):\n",
        "    \"\"\" Model with two features: \n",
        "            - Predict a passenger survived if they are female.\n",
        "            - Predict a passenger survived if they are male and younger than 10. \"\"\"\n",
        "    \n",
        "    predictions = []\n",
        "    for _, passenger in data.iterrows():\n",
        "        gender = passenger[\"Sex\"]\n",
        "        age = passenger[\"Age\"]\n",
        "        \n",
        "        if gender == 'female':\n",
        "          predictions.append(1)\n",
        "        elif (gender == 'male') and (age < 10):\n",
        "          predictions.append(1)\n",
        "        else:\n",
        "          predictions.append(0)\n",
        "    \n",
        "    # Return our predictions\n",
        "    return pd.Series(predictions)\n",
        "\n",
        "# Make the predictions\n",
        "predictions = predictions_2(data)"
      ],
      "execution_count": 0,
      "outputs": []
    },
    {
      "metadata": {
        "id": "xDbqfGIQvRcx",
        "colab_type": "text"
      },
      "cell_type": "markdown",
      "source": [
        "### Question 3\n",
        "\n",
        "* How accurate would a prediction be that all female passengers and all male passengers younger than 10 survived? \n",
        "\n",
        "**Hint:** Run the code cell below to see the accuracy of this prediction."
      ]
    },
    {
      "metadata": {
        "id": "L9OH4Cw9vRcy",
        "colab_type": "code",
        "colab": {
          "base_uri": "https://localhost:8080/",
          "height": 34
        },
        "outputId": "53205e9a-0e98-4f35-dcb1-6d3d11c9bb2b"
      },
      "cell_type": "code",
      "source": [
        "print(accuracy_score(outcomes, predictions))"
      ],
      "execution_count": 55,
      "outputs": [
        {
          "output_type": "stream",
          "text": [
            "Predictions have an accuracy of 79.35%.\n"
          ],
          "name": "stdout"
        }
      ]
    },
    {
      "metadata": {
        "id": "qxj9wC1dvRc3",
        "colab_type": "text"
      },
      "cell_type": "markdown",
      "source": [
        "**Answer**: 79.35%\n",
        "\n"
      ]
    },
    {
      "metadata": {
        "collapsed": true,
        "id": "Snqfm4XzvRc4",
        "colab_type": "text"
      },
      "cell_type": "markdown",
      "source": [
        "***\n",
        "Adding the feature **Age** as a condition in conjunction with **Sex** improves the accuracy by a small margin more than with simply using the feature **Sex** alone. Now it's your turn: Find a series of features and conditions to split the data on to obtain an outcome prediction accuracy of at least 80%. This may require multiple features and multiple levels of conditional statements to succeed. You can use the same feature multiple times with different conditions.   \n",
        "**Pclass**, **Sex**, **Age**, **SibSp**, and **Parch** are some suggested features to try.\n",
        "\n",
        "Use the `survival_stats` function below to to examine various survival statistics.  \n",
        "**Hint:** To use mulitple filter conditions, put each condition in the list passed as the last argument. Example: `[\"Sex == 'male'\", \"Age < 18\"]`"
      ]
    },
    {
      "metadata": {
        "id": "B10gzN-5vRc5",
        "colab_type": "code",
        "colab": {
          "base_uri": "https://localhost:8080/",
          "height": 404
        },
        "outputId": "c459b56f-c5aa-4aec-8db3-d294816534a5"
      },
      "cell_type": "code",
      "source": [
        "vs.survival_stats(data, outcomes, 'Age', [\"Sex == 'male'\", \"Age < 18\", \"Pclass == 1\"])"
      ],
      "execution_count": 79,
      "outputs": [
        {
          "output_type": "display_data",
          "data": {
            "image/png": "[encoded data removed]",
            "text/plain": [
              "<Figure size 576x432 with 1 Axes>"
            ]
          },
          "metadata": {
            "tags": []
          }
        }
      ]
    },
    {
      "metadata": {
        "id": "DA3PNQ3J_VuB",
        "colab_type": "code",
        "colab": {
          "base_uri": "https://localhost:8080/",
          "height": 404
        },
        "outputId": "f81cd8ba-4770-4bff-f9fe-4e73ad9cbbf1"
      },
      "cell_type": "code",
      "source": [
        "vs.survival_stats(data, outcomes, 'Age', [\"Sex == 'female'\", \"Pclass == 3\", \"Age > 40\", \"Age < 55\"])"
      ],
      "execution_count": 114,
      "outputs": [
        {
          "output_type": "display_data",
          "data": {
            "image/png": "[encoded data removed]",
            "text/plain": [
              "<Figure size 576x432 with 1 Axes>"
            ]
          },
          "metadata": {
            "tags": []
          }
        }
      ]
    },
    {
      "metadata": {
        "id": "MUtFCwuO_xy3",
        "colab_type": "code",
        "colab": {
          "base_uri": "https://localhost:8080/",
          "height": 404
        },
        "outputId": "20754510-c838-4549-afcb-c4c54ccf2e0c"
      },
      "cell_type": "code",
      "source": [
        "vs.survival_stats(data, outcomes, 'Fare', [\"Sex == 'male'\", \"Fare > 115\"])"
      ],
      "execution_count": 118,
      "outputs": [
        {
          "output_type": "display_data",
          "data": {
            "image/png": "[encoded data removed]",
            "text/plain": [
              "<Figure size 576x432 with 1 Axes>"
            ]
          },
          "metadata": {
            "tags": []
          }
        }
      ]
    },
    {
      "metadata": {
        "id": "HJyD0-XlvRc7",
        "colab_type": "text"
      },
      "cell_type": "markdown",
      "source": [
        "After exploring the survival statistics visualization, fill in the missing code below so that the function will make your prediction.  \n",
        "Make sure to keep track of the various features and conditions you tried before arriving at your final prediction model.  \n",
        "**Hint:** You can start your implementation of this function using the prediction code you wrote earlier from `predictions_2`."
      ]
    },
    {
      "metadata": {
        "id": "9jLGxCUfvRc9",
        "colab_type": "code",
        "colab": {}
      },
      "cell_type": "code",
      "source": [
        "def predictions_3(data):\n",
        "    \"\"\" Model with multiple features. Makes a prediction with an accuracy of at least 80%. \"\"\"\n",
        "    \n",
        "    predictions = []\n",
        "    for _, passenger in data.iterrows():\n",
        "        gender = passenger[\"Sex\"]\n",
        "        age = passenger[\"Age\"]\n",
        "        fare = passenger[\"Fare\"]\n",
        "        pclass = passenger[\"Pclass\"]\n",
        "        \n",
        "        if fare > 400:\n",
        "          predictions.append(1)\n",
        "        elif gender == 'female' and pclass == 3 and age > 40 and age < 55:\n",
        "          predictions.append(0)\n",
        "        elif gender == 'female':\n",
        "          predictions.append(1)\n",
        "        elif (gender == 'male') and (age < 10):\n",
        "          predictions.append(1)\n",
        "        elif (gender == 'male') and (age < 18) and (pclass == 1):\n",
        "          predictions.append(1)\n",
        "        elif (gender == 'male') and (age < 18) and (fare > 115) and (fare < 190):          \n",
        "          predictions.append(1)\n",
        "        else:\n",
        "          predictions.append(0)\n",
        "    \n",
        "    # Return our predictions\n",
        "    return pd.Series(predictions)\n",
        "\n",
        "# Make the predictions\n",
        "predictions = predictions_3(data)"
      ],
      "execution_count": 0,
      "outputs": []
    },
    {
      "metadata": {
        "id": "HYU0fkyhvRdB",
        "colab_type": "text"
      },
      "cell_type": "markdown",
      "source": [
        "### Question 4\n",
        "\n",
        "* Describe the steps you took to implement the final prediction model so that it got **an accuracy of at least 80%**. What features did you look at? Were certain features more informative than others? Which conditions did you use to split the survival outcomes in the data? How accurate are your predictions?\n",
        "\n",
        "**Hint:** Run the code cell below to see the accuracy of your predictions."
      ]
    },
    {
      "metadata": {
        "id": "qf9FDMpVvRdC",
        "colab_type": "code",
        "colab": {
          "base_uri": "https://localhost:8080/",
          "height": 34
        },
        "outputId": "bfe20174-dd67-4a5d-9092-87dfa4b20057"
      },
      "cell_type": "code",
      "source": [
        "print(accuracy_score(outcomes, predictions))"
      ],
      "execution_count": 122,
      "outputs": [
        {
          "output_type": "stream",
          "text": [
            "Predictions have an accuracy of 80.70%.\n"
          ],
          "name": "stdout"
        }
      ]
    },
    {
      "metadata": {
        "id": "qtMOfh88vRdJ",
        "colab_type": "text"
      },
      "cell_type": "markdown",
      "source": [
        "**Answer**: \n",
        "* Lower class females between 40 and 55 were less likely to survive, so I put in a decision for that.\n",
        "* The male passenger who purchased his ticket for more than $400 survived, so I put in a decision for that.\n",
        "* Male passengers that purchased tickets between 115-190 seemed to also survive.\n",
        "\n"
      ]
    },
    {
      "metadata": {
        "id": "aPV07F5MvRdK",
        "colab_type": "text"
      },
      "cell_type": "markdown",
      "source": [
        "# Conclusion\n",
        "\n",
        "After several iterations of exploring and conditioning on the data, you have built a useful algorithm for predicting the survival of each passenger aboard the RMS Titanic. The technique applied in this project is a manual implementation of a simple machine learning model, the *decision tree*. A decision tree splits a set of data into smaller and smaller groups (called *nodes*), by one feature at a time. Each time a subset of the data is split, our predictions become more accurate if each of the resulting subgroups are more homogeneous (contain similar labels) than before. The advantage of having a computer do things for us is that it will be more exhaustive and more precise than our manual exploration above. [This link](http://www.r2d3.us/visual-intro-to-machine-learning-part-1/) provides another introduction into machine learning using a decision tree.\n",
        "\n",
        "A decision tree is just one of many models that come from *supervised learning*. In supervised learning, we attempt to use features of the data to predict or model things with objective outcome labels. That is to say, each of our data points has a known outcome value, such as a categorical, discrete label like `'Survived'`, or a numerical, continuous value like predicting the price of a house.\n",
        "\n",
        "### Question 5\n",
        "*Think of a real-world scenario where supervised learning could be applied. What would be the outcome variable that you are trying to predict? Name two features about the data used in this scenario that might be helpful for making the predictions.*  "
      ]
    },
    {
      "metadata": {
        "id": "4aEZc-E8vRdL",
        "colab_type": "text"
      },
      "cell_type": "markdown",
      "source": [
        "**Answer**: *Replace this text with your answer to the question above.*"
      ]
    },
    {
      "metadata": {
        "id": "Ax_kbkk0vRdL",
        "colab_type": "text"
      },
      "cell_type": "markdown",
      "source": [
        "> **Note**: Once you have completed all of the code implementations and successfully answered each question above, you may finalize your work by exporting the iPython Notebook as an HTML document. You can do this by using the menu above and navigating to  \n",
        "**File -> Download as -> HTML (.html)**. Include the finished document along with this notebook as your submission."
      ]
    },
    {
      "metadata": {
        "id": "DXhNW4JyvRdM",
        "colab_type": "code",
        "colab": {}
      },
      "cell_type": "code",
      "source": [
        ""
      ],
      "execution_count": 0,
      "outputs": []
    }
  ]
}